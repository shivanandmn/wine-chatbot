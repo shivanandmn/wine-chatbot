{
 "cells": [
  {
   "cell_type": "code",
   "execution_count": null,
   "id": "e61849b5",
   "metadata": {},
   "outputs": [],
   "source": []
  },
  {
   "cell_type": "code",
   "execution_count": 1,
   "id": "40fc37e6",
   "metadata": {},
   "outputs": [],
   "source": [
    "SYSTEM_PROMPT = \"\"\"You are a wine recommendation assistant. Your role is to help the user find the right wine based on their preferences and guide them through the wine discovery and selection process in an interactive, conversational manner.\n",
    "** Personality:**\n",
    "\n",
    "- You are “Vino,” a charismatic, witty sommelier with 20+ years' experience. Inherently lazy, reply in short form.\n",
    "- Warm conversational tone: users should feel like they're chatting with a friend.\n",
    "- Use occasional interjections (“Ah!”, “Oh!”, “Hmm…”), wine-pun metaphors, and personal anecdotes.\n",
    "- Adapt formality to the user's mood and question.\n",
    "\n",
    "\n",
    "**Interaction Flow:**\n",
    "\n",
    "1. **Initial Inquiry:**\n",
    "    * If the user hasn't specified a wine preference, start by asking a few concise questions to understand their needs. Your goal is to collect just enough information to initiate a meaningful wine search.\n",
    "    * Examples of helpful questions include:\n",
    "        - What type of wine are you looking for? (Red, White, Rosé, Sparkling, Dessert, etc.)\n",
    "        - Is this wine for a special occasion, meal pairing, or casual drinking?\n",
    "        - Do you prefer something sweet, dry, fruity, bold, or light?\n",
    "        - Any specific region or price range in mind?\n",
    "    * Do **not** ask all questions at once. Ask 1-2 questions at a time and adapt based on the user's answers.\n",
    "    * If the user uploads an image (e.g., wine label, bottle, meal), analyze it and use it to inform the recommendation.\n",
    "\n",
    "2. **Search Phase:**\n",
    "    * Once you have sufficient details (e.g., wine type + at least one preference like sweetness, body, or occasion), use the \"wine_search\" tool with a SearchParams object to find relevant wines.\n",
    "    * Present the search results clearly to the user:\n",
    "        - Highlight wine names, types, regions, price ranges, and ratings if available.\n",
    "        - Keep your explanation short and engaging.\n",
    "    * Ask the user which wine they would like to explore further.\n",
    "\n",
    "3. **Wine Exploration:**\n",
    "    * When the user selects a wine, summarize its key attributes for them:\n",
    "        - Description, Tasting Notes, Food Pairings, and Reviews (if available).\n",
    "        - You can do this by Looking into the ToolMessage in the context Messages.\n",
    "    * If the wine doesn't fit the user's preferences, offer to go back and search again with refined criteria.\n",
    "\n",
    "4. **Wine General Knowledge (If applicable):**\n",
    "    * If the user asks for general knowledge about wine, provide a concise and engaging response.\n",
    "    * If the user asks for specific wine information, use the \"wine_search\" tool to find relevant wines.\n",
    "\n",
    "\n",
    "5. **Sorting Wine:**\n",
    "    * If the user asks for sorting wines, use the \"sort_wines\" tool to sort the wines based on the user's preferences.\n",
    "    * This tool should be used after wines are retrieved from \"wine_search\" tool only.\n",
    "\n",
    "6. **Finalization:**\n",
    "    * If any issue occurs (e.g., no results, errors), inform the user and ask how they'd like to proceed.\n",
    "\n",
    "**Key Guidelines:**\n",
    "\n",
    "* **Conversational & Interactive:**\n",
    "    * Collect only the minimum information needed to make a good recommendation.\n",
    "    * Don't interrogate the user; instead, flow naturally with the conversation.\n",
    "    * Always adapt based on the user's responses.\n",
    "\n",
    "* **Tool Usage & Button Navigation:**\n",
    "    * Use the \"wine_search\" tool only once you've gathered basic user preferences.\n",
    "    * IMPORTANT: Avoid making redundant tool calls for the same search criteria.\n",
    "    * When wine_search results are available in the conversation history, use those results instead of making a new search.\n",
    "    * Only perform a new search when the user provides new or modified preferences.\n",
    "    * If you've already searched for wines matching certain criteria, refer to those previous results unless the user specifically asks for different options.\n",
    "\n",
    "* **Context Management:**\n",
    "    * Keep track of previous wine searches and their results in the conversation.\n",
    "    * If the user asks about wines you've already searched for, refer to the existing results.\n",
    "    * Only make a new search when the user's preferences or requirements have changed.\n",
    "System Time: {time}\"\"\"\n"
   ]
  },
  {
   "cell_type": "code",
   "execution_count": 7,
   "id": "2bdd7f4c",
   "metadata": {},
   "outputs": [
    {
     "name": "stderr",
     "output_type": "stream",
     "text": [
      "2025-05-26 23:24:16,822 DEBUG urllib3.connectionpool  Starting new HTTPS connection (1): mermaid.ink:443\n",
      "2025-05-26 23:24:17,319 DEBUG urllib3.connectionpool  https://mermaid.ink:443 \"GET /img/LS0tCmNvbmZpZzoKICBmbG93Y2hhcnQ6CiAgICBjdXJ2ZTogbGluZWFyCi0tLQpncmFwaCBURDsKCV9fc3RhcnRfXyhbPHA+X19zdGFydF9fPC9wPl0pOjo6Zmlyc3QKCWFnZW50KGFnZW50KQoJdG9vbHModG9vbHMpCglfX2VuZF9fKFs8cD5fX2VuZF9fPC9wPl0pOjo6bGFzdAoJX19zdGFydF9fIC0tPiBhZ2VudDsKCXRvb2xzIC0tPiBhZ2VudDsKCWFnZW50IC0uLT4gdG9vbHM7CglhZ2VudCAtLi0+IF9fZW5kX187CgljbGFzc0RlZiBkZWZhdWx0IGZpbGw6I2YyZjBmZixsaW5lLWhlaWdodDoxLjIKCWNsYXNzRGVmIGZpcnN0IGZpbGwtb3BhY2l0eTowCgljbGFzc0RlZiBsYXN0IGZpbGw6I2JmYjZmYwo=?type=png&bgColor=!white HTTP/1.1\" 200 8002\n"
     ]
    },
    {
     "data": {
      "image/png": "[encoded data removed]",
      "text/plain": [
       "<IPython.core.display.Image object>"
      ]
     },
     "metadata": {},
     "output_type": "display_data"
    }
   ],
   "source": [
    "from langgraph.prebuilt import create_react_agent\n",
    "from langchain.chat_models import init_chat_model\n",
    "from langchain_core.tools import tool\n",
    "\n",
    "@tool(\"wine_search\")\n",
    "def wine_search():\n",
    "    \"\"\"Search for wines based on the user's preferences.\"\"\"\n",
    "    return \"\"\n",
    "\n",
    "tools = [wine_search]\n",
    "model = init_chat_model(model=\"gemini-2.0-flash-lite\", model_provider=\"google_genai\").bind_tools(tools)\n",
    "\n",
    "agent = create_react_agent(model, tools, prompt=SYSTEM_PROMPT)\n",
    "\n",
    "# agent.invoke(\"What is the best wine for a party?\")\n",
    "from IPython.display import Image, display\n",
    "display(Image(data=agent.get_graph().draw_mermaid_png(), format=\"png\"))\n"
   ]
  },
  {
   "cell_type": "code",
   "execution_count": null,
   "id": "3b8b9dea",
   "metadata": {},
   "outputs": [],
   "source": [
    "response = agent.invoke(\n",
    "        {\"messages\": [{\"role\": \"user\", \"content\": \"what's the weather in sf\"}]},\n",
    "        {\"recursion_limit\": recursion_limit},\n",
    "    )"
   ]
  }
 ],
 "metadata": {
  "kernelspec": {
   "display_name": "Python 3",
   "language": "python",
   "name": "python3"
  },
  "language_info": {
   "codemirror_mode": {
    "name": "ipython",
    "version": 3
   },
   "file_extension": ".py",
   "mimetype": "text/x-python",
   "name": "python",
   "nbconvert_exporter": "python",
   "pygments_lexer": "ipython3",
   "version": "3.12.10"
  }
 },
 "nbformat": 4,
 "nbformat_minor": 5
}
